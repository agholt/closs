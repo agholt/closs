{
 "cells": [
  {
   "cell_type": "markdown",
   "metadata": {},
   "source": [
    "# Generate parameters"
   ]
  },
  {
   "cell_type": "code",
   "execution_count": 1,
   "metadata": {},
   "outputs": [],
   "source": [
    "#from Bio.Seq import Seq\n",
    "#from Bio import SeqIO\n",
    "#from Bio import SeqUtils\n",
    "#from Bio import Entrez\n",
    "#from Bio.Alphabet import IUPAC\n",
    "#from Bio.Data import CodonTable"
   ]
  },
  {
   "cell_type": "code",
   "execution_count": 2,
   "metadata": {},
   "outputs": [],
   "source": [
    "import itertools\n",
    "import datetime\n",
    "import json\n",
    "from io import StringIO\n",
    "#import hashlib\n",
    "import timeit\n",
    "#import csv"
   ]
  },
  {
   "cell_type": "code",
   "execution_count": 3,
   "metadata": {},
   "outputs": [],
   "source": [
    "import random\n",
    "import numpy as np\n",
    "import pandas as pd \n",
    "#import matplotlib.pyplot as plt\n",
    "#from __future__ import print_function\n",
    "#%matplotlib inline"
   ]
  },
  {
   "cell_type": "code",
   "execution_count": 4,
   "metadata": {},
   "outputs": [
    {
     "data": {
      "text/plain": [
       "{'1e-2': 0.01,\n",
       " '1e-3': 0.00025,\n",
       " '2e-3': 0.0005,\n",
       " '3e-3': 0.00075,\n",
       " '4e-3': 0.001,\n",
       " '5e-3': 0.00125,\n",
       " '6e-3': 0.0015,\n",
       " '7e-3': 0.00175,\n",
       " '8e-3': 0.002,\n",
       " '9e-3': 0.00225}"
      ]
     },
     "execution_count": 4,
     "metadata": {},
     "output_type": "execute_result"
    }
   ],
   "source": [
    "mprobs = {'1e-2' : float(1e-2)}\n",
    "for i in range(1,10):\n",
    "    k = \"%se-3\" % (i) \n",
    "    p = float(\"{:.5f}\".format((i * 1e-3)/4.0))\n",
    "    mprobs[k] = p\n",
    "mprobs"
   ]
  },
  {
   "cell_type": "code",
   "execution_count": 5,
   "metadata": {},
   "outputs": [],
   "source": [
    "hl_dct = {\n",
    "    10: 0.0101,\n",
    "    15: 0.0068,\n",
    "    20: 0.0051, \n",
    "    25: 0.0041,\n",
    "    30:  0.0034, \n",
    "    35: 0.00287,\n",
    "}"
   ]
  },
  {
   "cell_type": "markdown",
   "metadata": {},
   "source": [
    "Meta Date"
   ]
  },
  {
   "cell_type": "markdown",
   "metadata": {},
   "source": [
    "Simulation time parameters"
   ]
  },
  {
   "cell_type": "code",
   "execution_count": 6,
   "metadata": {},
   "outputs": [],
   "source": [
    "sim_time_params = {\n",
    "    'sample_per_hour': 4,\n",
    "    'no_days': 365,\n",
    "    'no_years': 1\n",
    "}"
   ]
  },
  {
   "cell_type": "code",
   "execution_count": 7,
   "metadata": {},
   "outputs": [],
   "source": [
    "sim_time_params['run_length'] = 24 * sim_time_params['sample_per_hour'] * sim_time_params['no_days'] * sim_time_params['no_years']"
   ]
  },
  {
   "cell_type": "code",
   "execution_count": 8,
   "metadata": {},
   "outputs": [],
   "source": [
    "init_pop_size = 2000\n",
    "S = float(1000)/float(init_pop_size)\n",
    "max_population = 10000\n",
    "ufission_daily_rate = int(0)\n",
    "ufission_health_thresh = float(0.0)\n",
    "upper_limit = float(0.002)"
   ]
  },
  {
   "cell_type": "markdown",
   "metadata": {},
   "source": [
    "Viscious cycle"
   ]
  },
  {
   "cell_type": "code",
   "execution_count": 9,
   "metadata": {},
   "outputs": [
    {
     "data": {
      "text/plain": [
       "[(1, 2.5e-07),\n",
       " (2, 5e-07),\n",
       " (3, 7.5e-07),\n",
       " (4, 1e-06),\n",
       " (5, 1.25e-06),\n",
       " (6, 1.5e-06),\n",
       " (7, 1.75e-06),\n",
       " (8, 2e-06),\n",
       " (9, 2.25e-06),\n",
       " (10, 2.5e-06)]"
      ]
     },
     "execution_count": 9,
     "metadata": {},
     "output_type": "execute_result"
    }
   ],
   "source": [
    "[(i,round(i*(1e-6)/4.0, 9)) for i in range(1,11) ]"
   ]
  },
  {
   "cell_type": "code",
   "execution_count": 10,
   "metadata": {},
   "outputs": [
    {
     "data": {
      "text/plain": [
       "'0.00002250'"
      ]
     },
     "execution_count": 10,
     "metadata": {},
     "output_type": "execute_result"
    }
   ],
   "source": [
    "\"{:.8f}\".format(float(i*(1e-5)/4.0))"
   ]
  },
  {
   "cell_type": "code",
   "execution_count": 11,
   "metadata": {},
   "outputs": [
    {
     "data": {
      "text/plain": [
       "[(1, 2.5e-05, '0.00000250'),\n",
       " (2, 5e-05, '0.00000500'),\n",
       " (3, 7.5e-05, '0.00000750'),\n",
       " (4, 0.0001, '0.00001000'),\n",
       " (5, 0.000125, '0.00001250'),\n",
       " (6, 0.00015, '0.00001500'),\n",
       " (7, 0.000175, '0.00001750'),\n",
       " (8, 0.0002, '0.00002000'),\n",
       " (9, 0.000225, '0.00002250'),\n",
       " (10, 0.00025, '0.00002500')]"
      ]
     },
     "execution_count": 11,
     "metadata": {},
     "output_type": "execute_result"
    }
   ],
   "source": [
    "[(i,round(i*(1e-4)/4.0, 9), \"{:.8f}\".format(float(i*(1e-5)/4.0))) for i in range(1,11) ]"
   ]
  },
  {
   "cell_type": "code",
   "execution_count": null,
   "metadata": {},
   "outputs": [],
   "source": []
  },
  {
   "cell_type": "raw",
   "metadata": {},
   "source": [
    "mutate_prob_per_mutant = 0.0 # round(1e-06/4.0,9) #3e-6/4.0\n",
    "mutate_prob = (8e-3)/4.0\n",
    "ufission_prob_per_mutant = 0.0 #2.1e-40 #"
   ]
  },
  {
   "cell_type": "code",
   "execution_count": 12,
   "metadata": {},
   "outputs": [],
   "source": [
    "mutate_prob_per_mutant = round(1.2e-05/4.0,9)\n",
    "mutate_prob = (1e-4)/4.0\n",
    "ufission_prob_per_mutant = 0.0 #2.1e-40 #"
   ]
  },
  {
   "cell_type": "code",
   "execution_count": null,
   "metadata": {},
   "outputs": [],
   "source": []
  },
  {
   "cell_type": "code",
   "execution_count": null,
   "metadata": {},
   "outputs": [],
   "source": []
  },
  {
   "cell_type": "code",
   "execution_count": 13,
   "metadata": {},
   "outputs": [],
   "source": [
    "pref=\"TEST\""
   ]
  },
  {
   "cell_type": "code",
   "execution_count": null,
   "metadata": {},
   "outputs": [],
   "source": []
  },
  {
   "cell_type": "code",
   "execution_count": null,
   "metadata": {},
   "outputs": [],
   "source": []
  },
  {
   "cell_type": "code",
   "execution_count": null,
   "metadata": {},
   "outputs": [],
   "source": []
  },
  {
   "cell_type": "code",
   "execution_count": 14,
   "metadata": {},
   "outputs": [],
   "source": [
    "meta_data = {\n",
    "    'sim_time_params': sim_time_params,\n",
    "    'INIT_POP_SIZE': init_pop_size,  # Init population size\n",
    "    'DIR': '.',\n",
    "}"
   ]
  },
  {
   "cell_type": "markdown",
   "metadata": {},
   "source": [
    "mtDNA parameters"
   ]
  },
  {
   "cell_type": "code",
   "execution_count": 15,
   "metadata": {},
   "outputs": [],
   "source": [
    "#mtdna = SeqIO.read(\"sequence.fasta.txt\", \"fasta\")\n",
    "#wild_seq = str(mtdna.seq)\n",
    "#wild_len = len(wild_seq)\n",
    "#wild_type = hashlib.sha224(wild_seq.encode('utf-8')).hexdigest()"
   ]
  },
  {
   "cell_type": "code",
   "execution_count": 16,
   "metadata": {},
   "outputs": [],
   "source": [
    "wild_len = 16569"
   ]
  },
  {
   "cell_type": "code",
   "execution_count": 17,
   "metadata": {},
   "outputs": [],
   "source": [
    "replS = 0.01/float(sim_time_params['sample_per_hour'])\n",
    "verhulst_thresh = 1200.0\n",
    "verhulst_scale = 5.0\n",
    "max_repl_time = 2 * sim_time_params['sample_per_hour']  # two hours\n",
    "population_threshold = (800,1000)\n",
    "clone_probs = (0.1, 0.01, 0.00001)"
   ]
  },
  {
   "cell_type": "code",
   "execution_count": 18,
   "metadata": {},
   "outputs": [],
   "source": [
    "prob_k = '1e-2' \n",
    "HL = 30\n",
    "#mutate_prob = mprobs[k] # Legacy mutation probability \n",
    "damage_prob = hl_dct[HL]"
   ]
  },
  {
   "cell_type": "code",
   "execution_count": 19,
   "metadata": {},
   "outputs": [],
   "source": [
    "mtdna_params = {\n",
    "    'WILD_SEQ': \"0\",\n",
    "    'WILD_TYPE': '0',\n",
    "    'WILD_LEN': wild_len,\n",
    "    'MAX_TTL': 10,\n",
    "    'MAX_REPL_TIME': max_repl_time,\n",
    "    'CONSTANT_REPL_TIME': True,\n",
    "    'DAMAGE_PROB': damage_prob,\n",
    "    'MUTATE_PROB': mutate_prob,\n",
    "    'VERHULST_THRESH': verhulst_thresh,\n",
    "    'VERHULST_SCALE': verhulst_scale,\n",
    "    'CLONE_replS': replS,\n",
    "    'CLONE_SCALE_FLAG': False,\n",
    "    'POP_THRESH': population_threshold,\n",
    "    'CLONE_PROBS': clone_probs,\n",
    "    'CLONE_PROB_METHOD': 'CONSTANT',\n",
    "    'NO_CLONE_WITHOUT_ATP': False,\n",
    "    'DEFECT_ON': 0,\n",
    "    'WIPE_OUT_PROB': 0.0,\n",
    "    'WIPE_OUT_RATE': 0.0,\n",
    "    'WIPE_OUT_HOLD': 96\n",
    "    #'DEBUG_LEVEL': 2,\n",
    "    #'LOG_TO_FILE': False,\n",
    "    #'LOG_ONLY_TO_FILE': False\n",
    "}"
   ]
  },
  {
   "cell_type": "markdown",
   "metadata": {},
   "source": [
    "Admin parameters"
   ]
  },
  {
   "cell_type": "code",
   "execution_count": 20,
   "metadata": {},
   "outputs": [],
   "source": [
    "admin_params = {\n",
    "    'VERBOSE': True,\n",
    "    'DEBUG_LEVEL': 2,\n",
    "    'LOG_TO_FILE': False,\n",
    "    'LOG_ONLY_TO_FILE': False,\n",
    "    'GEN_LOGGING_ON': False\n",
    "}"
   ]
  },
  {
   "cell_type": "markdown",
   "metadata": {},
   "source": [
    "Initial parameters"
   ]
  },
  {
   "cell_type": "code",
   "execution_count": 21,
   "metadata": {},
   "outputs": [],
   "source": [
    "init_params = {\n",
    "    'max_population': max_population, # Maximum capacity of organelle\n",
    "    'age_start': int(0),         # age (in years) to start simultion\n",
    "    'WILD_TYPE_THRESH' : int(0.3 * init_pop_size) # Threshold, below which, cell dies\n",
    "}"
   ]
  },
  {
   "cell_type": "code",
   "execution_count": null,
   "metadata": {},
   "outputs": [],
   "source": []
  },
  {
   "cell_type": "markdown",
   "metadata": {},
   "source": [
    "Fission/fusion (deprectaed)."
   ]
  },
  {
   "cell_type": "code",
   "execution_count": 22,
   "metadata": {},
   "outputs": [],
   "source": [
    "fission_params = {\n",
    "    'fission_thresh': 1500,\n",
    "    #'wild_type_thresh': 0.3 * float(init_pop_size)\n",
    "    'ufission_health_thresh': ufission_health_thresh,\n",
    "    'ufission_const_frag_size': int(10),\n",
    "    'ufission_poisson_mean_frag_size': int(10),\n",
    "    'ufission_frag_prop_limits': (0.0,upper_limit),\n",
    "    'ufission_const_daily_rate': ufission_daily_rate,\n",
    "    'ufission_frag_method': \"percent\",\n",
    "    'ufission_rate_method': \"constant\",\n",
    "    'ufission_fail_prob': float(0.0),\n",
    "    'ufission_prob_per_mutant': ufission_prob_per_mutant  # FF fail probabiliy (1e-4)\n",
    "}"
   ]
  },
  {
   "cell_type": "code",
   "execution_count": null,
   "metadata": {},
   "outputs": [],
   "source": []
  },
  {
   "cell_type": "code",
   "execution_count": 23,
   "metadata": {},
   "outputs": [],
   "source": [
    "if fission_params['ufission_frag_method'] == \"constant\":\n",
    "    fission_method = \"Fconst\"\n",
    "    frag_size = fission_params['ufission_const_frag_size']\n",
    "    fission_rate = fission_params['ufission_const_daily_rate']\n",
    "if fission_params['ufission_frag_method'] == \"poisson\":\n",
    "    fission_method = \"Fpois\"\n",
    "    frag_size = fission_params['ufission_poisson_mean_frag_size']\n",
    "    fission_rate = fission_params['ufission_const_daily_rate']\n",
    "if fission_params['ufission_frag_method'] == \"percent\":\n",
    "    fission_method = \"Fpois\"\n",
    "    frag_size = fission_params['ufission_poisson_mean_frag_size']\n",
    "    fission_rate = fission_params['ufission_const_daily_rate']\n",
    "else:\n",
    "    fission_method = \"Fnone\"\n",
    "    frag_size = \"none\"\n",
    "    fission_rate = \"none\""
   ]
  },
  {
   "cell_type": "markdown",
   "metadata": {},
   "source": [
    "Freeradical parameters"
   ]
  },
  {
   "cell_type": "code",
   "execution_count": 24,
   "metadata": {},
   "outputs": [],
   "source": [
    "freerad_params = {\n",
    "    \n",
    "    'mutate_prob_base': 1e-4/4.0,\n",
    "    'const_model': mutate_prob,\n",
    "    'non_replicable_prop': 0.85,\n",
    "    'mutate_prop_flag': False,\n",
    "    'mutate_prob_per_mutant': mutate_prob_per_mutant,   #\n",
    "    'defection_prob': 0.0,\n",
    "    'mutate_model': 'CONST',\n",
    "    'lin_model': (2.5e-5, 1e-6),\n",
    "    'pw_model': (2.5e-5, 1e-6, 5e-5, 0.0, 60.0),\n",
    "    'exp_model': (0, 0, 0, 1e-3/4.0)\n",
    "}"
   ]
  },
  {
   "cell_type": "code",
   "execution_count": null,
   "metadata": {},
   "outputs": [],
   "source": []
  },
  {
   "cell_type": "code",
   "execution_count": null,
   "metadata": {},
   "outputs": [],
   "source": []
  },
  {
   "cell_type": "code",
   "execution_count": 25,
   "metadata": {},
   "outputs": [],
   "source": [
    "exp_desc = pref+\"_\"+str(freerad_params['const_model'])"
   ]
  },
  {
   "cell_type": "code",
   "execution_count": 26,
   "metadata": {},
   "outputs": [
    {
     "data": {
      "text/plain": [
       "'TEST_2.5e-05'"
      ]
     },
     "execution_count": 26,
     "metadata": {},
     "output_type": "execute_result"
    }
   ],
   "source": [
    "exp_desc"
   ]
  },
  {
   "cell_type": "code",
   "execution_count": 27,
   "metadata": {},
   "outputs": [],
   "source": [
    "mp2 = lambda a,b,c,k, t: a * np.exp(b*t+c) + k"
   ]
  },
  {
   "cell_type": "code",
   "execution_count": 28,
   "metadata": {},
   "outputs": [],
   "source": [
    "#n = 120\n",
    "#a,b,c,k = freerad_params['exp_model']\n",
    "#t = np.linspace(0,n, 52 * n+1)\n",
    "#x2 =  [mp2(a,b, c, k,i) for i in t]"
   ]
  },
  {
   "cell_type": "code",
   "execution_count": null,
   "metadata": {},
   "outputs": [],
   "source": []
  },
  {
   "cell_type": "code",
   "execution_count": null,
   "metadata": {},
   "outputs": [],
   "source": []
  },
  {
   "cell_type": "markdown",
   "metadata": {},
   "source": [
    "ATP parameters"
   ]
  },
  {
   "cell_type": "code",
   "execution_count": 29,
   "metadata": {},
   "outputs": [],
   "source": [
    "atp_params = {\n",
    "    'atp_produce_rate': int((S * 60 * 15 * 20e6)/(1000*1000)),    # mitochondrial atp production rate\n",
    "    'repl_atp_consume_rate':  0, # int(0.01 * atp_produce_rate)\n",
    "    'atp_consume_rate': int((60 * 15 * 20e6)/1000),\n",
    "    'ATP_SEQ': 'FASFIAPTILGLPAAVLIILF',\n",
    "    'ATP_PRODUCTION_ALWAYS_ON': False,\n",
    "    'ALLOW_MUTANT_ATP_PRODUCERS': False\n",
    "}"
   ]
  },
  {
   "cell_type": "code",
   "execution_count": 30,
   "metadata": {},
   "outputs": [],
   "source": [
    "atp_params['per_mtdna_atp_consumuption'] = int(0.01 * atp_params['atp_produce_rate'])"
   ]
  },
  {
   "cell_type": "code",
   "execution_count": 31,
   "metadata": {},
   "outputs": [
    {
     "data": {
      "text/plain": [
       "{'atp_produce_rate': 9000,\n",
       " 'repl_atp_consume_rate': 0,\n",
       " 'atp_consume_rate': 18000000,\n",
       " 'ATP_SEQ': 'FASFIAPTILGLPAAVLIILF',\n",
       " 'ATP_PRODUCTION_ALWAYS_ON': False,\n",
       " 'ALLOW_MUTANT_ATP_PRODUCERS': False,\n",
       " 'per_mtdna_atp_consumuption': 90}"
      ]
     },
     "execution_count": 31,
     "metadata": {},
     "output_type": "execute_result"
    }
   ],
   "source": [
    "atp_params"
   ]
  },
  {
   "cell_type": "code",
   "execution_count": 32,
   "metadata": {},
   "outputs": [],
   "source": [
    "params_mito = {\n",
    "    'ADMIN_PARAMS': admin_params,\n",
    "    'INIT_PARAMS': init_params,\n",
    "    'ADMIN_PARAMS': admin_params,\n",
    "    'FISSION_PARAMS': fission_params,\n",
    "    'SIM_TIME_PARAMS': sim_time_params,\n",
    "    'ATP_PARAMS': atp_params,\n",
    "    'FREERAD_PARAMS': freerad_params,\n",
    "    'MTDNA_PARAMS': mtdna_params,\n",
    "}"
   ]
  },
  {
   "cell_type": "markdown",
   "metadata": {},
   "source": [
    "Meta and mito parameters"
   ]
  },
  {
   "cell_type": "code",
   "execution_count": 33,
   "metadata": {},
   "outputs": [],
   "source": [
    "params = {\n",
    "    'META': meta_data,\n",
    "    'MITO_PARAMS': params_mito,\n",
    "    #'WILD_SEQ': wild_seq\n",
    "}"
   ]
  },
  {
   "cell_type": "markdown",
   "metadata": {},
   "source": [
    "Write to file"
   ]
  },
  {
   "cell_type": "code",
   "execution_count": 34,
   "metadata": {},
   "outputs": [],
   "source": [
    "f_ulim =  fission_params['ufission_frag_prop_limits'][1]"
   ]
  },
  {
   "cell_type": "code",
   "execution_count": 35,
   "metadata": {},
   "outputs": [
    {
     "data": {
      "text/plain": [
       "{'META': {'sim_time_params': {'sample_per_hour': 4,\n",
       "   'no_days': 365,\n",
       "   'no_years': 1,\n",
       "   'run_length': 35040},\n",
       "  'INIT_POP_SIZE': 2000,\n",
       "  'DIR': '.'},\n",
       " 'MITO_PARAMS': {'ADMIN_PARAMS': {'VERBOSE': True,\n",
       "   'DEBUG_LEVEL': 2,\n",
       "   'LOG_TO_FILE': False,\n",
       "   'LOG_ONLY_TO_FILE': False,\n",
       "   'GEN_LOGGING_ON': False},\n",
       "  'INIT_PARAMS': {'max_population': 10000,\n",
       "   'age_start': 0,\n",
       "   'WILD_TYPE_THRESH': 600},\n",
       "  'FISSION_PARAMS': {'fission_thresh': 1500,\n",
       "   'ufission_health_thresh': 0.0,\n",
       "   'ufission_const_frag_size': 10,\n",
       "   'ufission_poisson_mean_frag_size': 10,\n",
       "   'ufission_frag_prop_limits': (0.0, 0.002),\n",
       "   'ufission_const_daily_rate': 0,\n",
       "   'ufission_frag_method': 'percent',\n",
       "   'ufission_rate_method': 'constant',\n",
       "   'ufission_fail_prob': 0.0,\n",
       "   'ufission_prob_per_mutant': 0.0},\n",
       "  'SIM_TIME_PARAMS': {'sample_per_hour': 4,\n",
       "   'no_days': 365,\n",
       "   'no_years': 1,\n",
       "   'run_length': 35040},\n",
       "  'ATP_PARAMS': {'atp_produce_rate': 9000,\n",
       "   'repl_atp_consume_rate': 0,\n",
       "   'atp_consume_rate': 18000000,\n",
       "   'ATP_SEQ': 'FASFIAPTILGLPAAVLIILF',\n",
       "   'ATP_PRODUCTION_ALWAYS_ON': False,\n",
       "   'ALLOW_MUTANT_ATP_PRODUCERS': False,\n",
       "   'per_mtdna_atp_consumuption': 90},\n",
       "  'FREERAD_PARAMS': {'mutate_prob_base': 2.5e-05,\n",
       "   'const_model': 2.5e-05,\n",
       "   'non_replicable_prop': 0.85,\n",
       "   'mutate_prop_flag': False,\n",
       "   'mutate_prob_per_mutant': 3e-06,\n",
       "   'defection_prob': 0.0,\n",
       "   'mutate_model': 'CONST',\n",
       "   'lin_model': (2.5e-05, 1e-06),\n",
       "   'pw_model': (2.5e-05, 1e-06, 5e-05, 0.0, 60.0),\n",
       "   'exp_model': (0, 0, 0, 0.00025)},\n",
       "  'MTDNA_PARAMS': {'WILD_SEQ': '0',\n",
       "   'WILD_TYPE': '0',\n",
       "   'WILD_LEN': 16569,\n",
       "   'MAX_TTL': 10,\n",
       "   'MAX_REPL_TIME': 8,\n",
       "   'CONSTANT_REPL_TIME': True,\n",
       "   'DAMAGE_PROB': 0.0034,\n",
       "   'MUTATE_PROB': 2.5e-05,\n",
       "   'VERHULST_THRESH': 1200.0,\n",
       "   'VERHULST_SCALE': 5.0,\n",
       "   'CLONE_replS': 0.0025,\n",
       "   'CLONE_SCALE_FLAG': False,\n",
       "   'POP_THRESH': (800, 1000),\n",
       "   'CLONE_PROBS': (0.1, 0.01, 1e-05),\n",
       "   'CLONE_PROB_METHOD': 'CONSTANT',\n",
       "   'NO_CLONE_WITHOUT_ATP': False,\n",
       "   'DEFECT_ON': 0,\n",
       "   'WIPE_OUT_PROB': 0.0,\n",
       "   'WIPE_OUT_RATE': 0.0,\n",
       "   'WIPE_OUT_HOLD': 96}}}"
      ]
     },
     "execution_count": 35,
     "metadata": {},
     "output_type": "execute_result"
    }
   ],
   "source": [
    "params"
   ]
  },
  {
   "cell_type": "code",
   "execution_count": 36,
   "metadata": {},
   "outputs": [],
   "source": [
    "pfile = \"param-%s_ppm-%s_init-%s_cap-%s.json\" % \\\n",
    "( \n",
    "     exp_desc,\n",
    "     str(freerad_params['mutate_prob_per_mutant']), \n",
    "     meta_data['INIT_POP_SIZE'],\n",
    "     init_params['max_population']\n",
    ")"
   ]
  },
  {
   "cell_type": "code",
   "execution_count": 37,
   "metadata": {},
   "outputs": [],
   "source": [
    "with open(pfile, 'w') as fd:\n",
    "    fd.writelines(json.dumps(params))"
   ]
  },
  {
   "cell_type": "code",
   "execution_count": 38,
   "metadata": {},
   "outputs": [
    {
     "name": "stdout",
     "output_type": "stream",
     "text": [
      "param-TEST_2.5e-05_ppm-3e-06_init-2000_cap-10000.json\n"
     ]
    }
   ],
   "source": [
    "print(pfile)"
   ]
  },
  {
   "cell_type": "code",
   "execution_count": null,
   "metadata": {},
   "outputs": [],
   "source": []
  }
 ],
 "metadata": {
  "kernelspec": {
   "display_name": "Python 3",
   "language": "python",
   "name": "python3"
  },
  "language_info": {
   "codemirror_mode": {
    "name": "ipython",
    "version": 3
   },
   "file_extension": ".py",
   "mimetype": "text/x-python",
   "name": "python",
   "nbconvert_exporter": "python",
   "pygments_lexer": "ipython3",
   "version": "3.6.9"
  }
 },
 "nbformat": 4,
 "nbformat_minor": 2
}
