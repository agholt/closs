{
 "cells": [
  {
   "cell_type": "markdown",
   "metadata": {
    "id": "ox9PGH1d0zx2"
   },
   "source": [
    "# A comparison of mtDNA deletion mutant proliferation mechanisms"
   ]
  },
  {
   "cell_type": "code",
   "execution_count": 1,
   "metadata": {},
   "outputs": [],
   "source": [
    "__author__ = \"Alan Holt\"\n",
    "__copyright__ = \"Copyright 2022\"\n",
    "__credits__ = [\"Adrian Davies\"]\n",
    "__license__ = \"Proprietary\"\n",
    "__version__ = \"1.0.3\"\n",
    "__maintainer__ = \"Alan Holt\"\n",
    "__email__ = \"agholt@gmail.com\"\n",
    "__status__ = \"Reduced GC\""
   ]
  },
  {
   "cell_type": "code",
   "execution_count": 46,
   "metadata": {
    "executionInfo": {
     "elapsed": 3,
     "status": "ok",
     "timestamp": 1643795403631,
     "user": {
      "displayName": "Alan Holt",
      "photoUrl": "https://lh3.googleusercontent.com/a/default-user=s64",
      "userId": "10797295969575993173"
     },
     "user_tz": 0
    },
    "id": "JxBNh7pAoE2w"
   },
   "outputs": [],
   "source": [
    "import json\n",
    "import numpy as np\n",
    "import pandas as pd \n",
    "import matplotlib.pyplot as plt\n",
    "import warnings\n",
    "warnings.filterwarnings('ignore')"
   ]
  },
  {
   "cell_type": "code",
   "execution_count": null,
   "metadata": {},
   "outputs": [],
   "source": []
  },
  {
   "cell_type": "markdown",
   "metadata": {
    "id": "y7f6qzPk9yqQ"
   },
   "source": [
    "## Process Json files and create Pandas dataframes"
   ]
  },
  {
   "cell_type": "markdown",
   "metadata": {},
   "source": [
    "Randon drift"
   ]
  },
  {
   "cell_type": "code",
   "execution_count": 3,
   "metadata": {
    "executionInfo": {
     "elapsed": 4,
     "status": "ok",
     "timestamp": 1643795403871,
     "user": {
      "displayName": "Alan Holt",
      "photoUrl": "https://lh3.googleusercontent.com/a/default-user=s64",
      "userId": "10797295969575993173"
     },
     "user_tz": 0
    },
    "id": "crVvFNRytjSm"
   },
   "outputs": [],
   "source": [
    "resfile_rd = \"rd_results.json\""
   ]
  },
  {
   "cell_type": "code",
   "execution_count": 4,
   "metadata": {
    "executionInfo": {
     "elapsed": 5,
     "status": "ok",
     "timestamp": 1643795403873,
     "user": {
      "displayName": "Alan Holt",
      "photoUrl": "https://lh3.googleusercontent.com/a/default-user=s64",
      "userId": "10797295969575993173"
     },
     "user_tz": 0
    },
    "id": "u0aFVinytptq"
   },
   "outputs": [],
   "source": [
    "with open(resfile_rd, 'r') as fd:\n",
    "    dj = json.load(fd)\n",
    "    fd.close()\n",
    "df0_rd = pd.read_json(dj, orient=\"columns\")"
   ]
  },
  {
   "cell_type": "markdown",
   "metadata": {},
   "source": [
    "Replicative advantage"
   ]
  },
  {
   "cell_type": "code",
   "execution_count": 5,
   "metadata": {
    "executionInfo": {
     "elapsed": 5,
     "status": "ok",
     "timestamp": 1643795403872,
     "user": {
      "displayName": "Alan Holt",
      "photoUrl": "https://lh3.googleusercontent.com/a/default-user=s64",
      "userId": "10797295969575993173"
     },
     "user_tz": 0
    },
    "id": "Sqqh0JnRoUkI"
   },
   "outputs": [],
   "source": [
    "resfile_ra = \"ra_results.json\""
   ]
  },
  {
   "cell_type": "code",
   "execution_count": 6,
   "metadata": {
    "executionInfo": {
     "elapsed": 5,
     "status": "ok",
     "timestamp": 1643795403873,
     "user": {
      "displayName": "Alan Holt",
      "photoUrl": "https://lh3.googleusercontent.com/a/default-user=s64",
      "userId": "10797295969575993173"
     },
     "user_tz": 0
    },
    "id": "suzNmgpToViV"
   },
   "outputs": [],
   "source": [
    "with open(resfile_ra, 'r') as fd:\n",
    "    dj = json.load(fd)\n",
    "    fd.close()\n",
    "df0_ra = pd.read_json(dj, orient=\"columns\")"
   ]
  },
  {
   "cell_type": "markdown",
   "metadata": {},
   "source": [
    "Vicious cycle"
   ]
  },
  {
   "cell_type": "code",
   "execution_count": 7,
   "metadata": {
    "executionInfo": {
     "elapsed": 5,
     "status": "ok",
     "timestamp": 1643795403872,
     "user": {
      "displayName": "Alan Holt",
      "photoUrl": "https://lh3.googleusercontent.com/a/default-user=s64",
      "userId": "10797295969575993173"
     },
     "user_tz": 0
    },
    "id": "zaEOPpNYUYBl"
   },
   "outputs": [],
   "source": [
    "resfile_vc = \"vc_results.json\""
   ]
  },
  {
   "cell_type": "code",
   "execution_count": 8,
   "metadata": {
    "executionInfo": {
     "elapsed": 360,
     "status": "ok",
     "timestamp": 1643795404228,
     "user": {
      "displayName": "Alan Holt",
      "photoUrl": "https://lh3.googleusercontent.com/a/default-user=s64",
      "userId": "10797295969575993173"
     },
     "user_tz": 0
    },
    "id": "4-mjUMh3dOoA"
   },
   "outputs": [],
   "source": [
    "with open(resfile_vc, 'r') as fd:\n",
    "    dj = json.load(fd)\n",
    "    fd.close()\n",
    "df0_vc = pd.read_json(dj, orient=\"columns\")"
   ]
  },
  {
   "cell_type": "code",
   "execution_count": 9,
   "metadata": {},
   "outputs": [],
   "source": [
    "df0_rd[\"MUT_PROB\"] = pd.to_numeric(df0_rd[\"MUT_PROB\"].round(decimals=5))\n",
    "rd_labels = ['2e-3', '3e-3', '4e-3', '5e-3', '6e-3']\n",
    "rd_probs = [float(i) for i in rd_labels]\n",
    "#rd_probs = [0.002, 0.003, 0.004, 0.005, 0.006]\n",
    "df_rd = df0_rd"
   ]
  },
  {
   "cell_type": "code",
   "execution_count": 10,
   "metadata": {},
   "outputs": [],
   "source": [
    "df0_ra[\"MUT_PROB\"] = pd.to_numeric(df0_ra[\"MUT_PROB\"].round(decimals=5))\n",
    "ra_labels = ['2e-4',  '4e-4',  '6e-4', '8e-4',  '1e-3']\n",
    "ra_probs = [float(i) for i in ra_labels]\n",
    "#ra_probs = [ 0.0002,  0.0004,  0.0006,  0.0008,  0.001]\n",
    "df_ra = df0_ra"
   ]
  },
  {
   "cell_type": "code",
   "execution_count": 11,
   "metadata": {},
   "outputs": [],
   "source": [
    "df0_vc[\"PMP\"] = pd.to_numeric(df0_vc[\"PER_MUT_PROB\"].round(decimals=6))\n",
    "vc_labels = [ '2e-6',  '4e-6',  '6e-6',  '8e-6','1e-5', '1.2e-5']\n",
    "vc_probs = [float(i) for i in vc_labels]\n",
    "#vc_probs = [0.000002,  0.000004,  0.000006,  0.000008,  0.00001, 0.000012 ]\n",
    "df_vc =  df0_vc"
   ]
  },
  {
   "cell_type": "markdown",
   "metadata": {
    "id": "Emz2hxbK-ALq"
   },
   "source": [
    "## Some Preliminary Analysis"
   ]
  },
  {
   "cell_type": "code",
   "execution_count": 12,
   "metadata": {
    "colab": {
     "base_uri": "https://localhost:8080/"
    },
    "executionInfo": {
     "elapsed": 26,
     "status": "ok",
     "timestamp": 1643795404231,
     "user": {
      "displayName": "Alan Holt",
      "photoUrl": "https://lh3.googleusercontent.com/a/default-user=s64",
      "userId": "10797295969575993173"
     },
     "user_tz": 0
    },
    "id": "PKhNoYjhzdLW",
    "outputId": "bea5304a-4103-4c2a-f041-9be431c59c01"
   },
   "outputs": [
    {
     "data": {
      "text/plain": [
       "600"
      ]
     },
     "execution_count": 12,
     "metadata": {},
     "output_type": "execute_result"
    }
   ],
   "source": [
    "df_rd['E'].count()"
   ]
  },
  {
   "cell_type": "code",
   "execution_count": 13,
   "metadata": {
    "colab": {
     "base_uri": "https://localhost:8080/"
    },
    "executionInfo": {
     "elapsed": 25,
     "status": "ok",
     "timestamp": 1643795404231,
     "user": {
      "displayName": "Alan Holt",
      "photoUrl": "https://lh3.googleusercontent.com/a/default-user=s64",
      "userId": "10797295969575993173"
     },
     "user_tz": 0
    },
    "id": "fQfTpK3lQ5kO",
    "outputId": "1281b2d3-47ad-45a3-975e-6be37f56c2e0"
   },
   "outputs": [
    {
     "data": {
      "text/plain": [
       "100"
      ]
     },
     "execution_count": 13,
     "metadata": {},
     "output_type": "execute_result"
    }
   ],
   "source": [
    "df_ra['E'][df_ra.MUT_PROB==0.0006].count()"
   ]
  },
  {
   "cell_type": "code",
   "execution_count": 14,
   "metadata": {
    "colab": {
     "base_uri": "https://localhost:8080/"
    },
    "executionInfo": {
     "elapsed": 24,
     "status": "ok",
     "timestamp": 1643795404232,
     "user": {
      "displayName": "Alan Holt",
      "photoUrl": "https://lh3.googleusercontent.com/a/default-user=s64",
      "userId": "10797295969575993173"
     },
     "user_tz": 0
    },
    "id": "Nw7jjWp3dntF",
    "outputId": "e51bd421-4ed0-4da3-c7ba-b8598fc1a9b4"
   },
   "outputs": [
    {
     "data": {
      "text/plain": [
       "600"
      ]
     },
     "execution_count": 14,
     "metadata": {},
     "output_type": "execute_result"
    }
   ],
   "source": [
    "df_vc['E'].count()"
   ]
  },
  {
   "cell_type": "markdown",
   "metadata": {
    "id": "RLZtndqpvZ9s"
   },
   "source": [
    "Average lifespan of expired cells."
   ]
  },
  {
   "cell_type": "code",
   "execution_count": 15,
   "metadata": {
    "colab": {
     "base_uri": "https://localhost:8080/"
    },
    "executionInfo": {
     "elapsed": 23,
     "status": "ok",
     "timestamp": 1643795404232,
     "user": {
      "displayName": "Alan Holt",
      "photoUrl": "https://lh3.googleusercontent.com/a/default-user=s64",
      "userId": "10797295969575993173"
     },
     "user_tz": 0
    },
    "id": "SjooKJIdziWf",
    "outputId": "da6bca54-4077-4395-c233-ff230b6b4034"
   },
   "outputs": [
    {
     "data": {
      "text/plain": [
       "71.81041409024722"
      ]
     },
     "execution_count": 15,
     "metadata": {},
     "output_type": "execute_result"
    }
   ],
   "source": [
    "df_rd['lifespan'][df_rd.E==True].mean()"
   ]
  },
  {
   "cell_type": "code",
   "execution_count": 16,
   "metadata": {
    "colab": {
     "base_uri": "https://localhost:8080/"
    },
    "executionInfo": {
     "elapsed": 21,
     "status": "ok",
     "timestamp": 1643795404232,
     "user": {
      "displayName": "Alan Holt",
      "photoUrl": "https://lh3.googleusercontent.com/a/default-user=s64",
      "userId": "10797295969575993173"
     },
     "user_tz": 0
    },
    "id": "wDbmq4_cuHl6",
    "outputId": "251a4594-3042-4098-cc2b-f3c8188d8598"
   },
   "outputs": [
    {
     "data": {
      "text/plain": [
       "74.29741101504524"
      ]
     },
     "execution_count": 16,
     "metadata": {},
     "output_type": "execute_result"
    }
   ],
   "source": [
    "df_ra['lifespan'][df_ra.E==True].mean()"
   ]
  },
  {
   "cell_type": "code",
   "execution_count": 17,
   "metadata": {
    "colab": {
     "base_uri": "https://localhost:8080/"
    },
    "executionInfo": {
     "elapsed": 19,
     "status": "ok",
     "timestamp": 1643795404233,
     "user": {
      "displayName": "Alan Holt",
      "photoUrl": "https://lh3.googleusercontent.com/a/default-user=s64",
      "userId": "10797295969575993173"
     },
     "user_tz": 0
    },
    "id": "iT0aVBpumX0o",
    "outputId": "dee9693f-6c4b-4a25-fe81-83bd032abe5c"
   },
   "outputs": [
    {
     "data": {
      "text/plain": [
       "63.75723237613743"
      ]
     },
     "execution_count": 17,
     "metadata": {},
     "output_type": "execute_result"
    }
   ],
   "source": [
    "df_vc['lifespan'][df_vc.E==True].mean()"
   ]
  },
  {
   "cell_type": "markdown",
   "metadata": {
    "id": "HMSyASjuwRNh"
   },
   "source": [
    "Average lifespan of dead cells by mutation probability."
   ]
  },
  {
   "cell_type": "code",
   "execution_count": 18,
   "metadata": {
    "colab": {
     "base_uri": "https://localhost:8080/"
    },
    "executionInfo": {
     "elapsed": 17,
     "status": "ok",
     "timestamp": 1643795404233,
     "user": {
      "displayName": "Alan Holt",
      "photoUrl": "https://lh3.googleusercontent.com/a/default-user=s64",
      "userId": "10797295969575993173"
     },
     "user_tz": 0
    },
    "id": "Kh32EzdjzrzE",
    "outputId": "97cd0d9d-a455-4703-d9a8-20cd60533c73"
   },
   "outputs": [
    {
     "data": {
      "text/plain": [
       "MUT_PROB\n",
       "0.002    83.657301\n",
       "0.003    79.205308\n",
       "0.004    70.783283\n",
       "0.005    70.366148\n",
       "0.006    70.970268\n",
       "Name: lifespan, dtype: float64"
      ]
     },
     "execution_count": 18,
     "metadata": {},
     "output_type": "execute_result"
    }
   ],
   "source": [
    "df_rd[df_rd.E==True].groupby('MUT_PROB')['lifespan'].mean()"
   ]
  },
  {
   "cell_type": "code",
   "execution_count": 19,
   "metadata": {
    "colab": {
     "base_uri": "https://localhost:8080/"
    },
    "executionInfo": {
     "elapsed": 15,
     "status": "ok",
     "timestamp": 1643795404233,
     "user": {
      "displayName": "Alan Holt",
      "photoUrl": "https://lh3.googleusercontent.com/a/default-user=s64",
      "userId": "10797295969575993173"
     },
     "user_tz": 0
    },
    "id": "On17eGCkvHLS",
    "outputId": "816cbdd1-f86c-41d3-d868-4d5330c41283"
   },
   "outputs": [
    {
     "data": {
      "text/plain": [
       "MUT_PROB\n",
       "0.0001    73.170719\n",
       "0.0002    88.838018\n",
       "0.0003    74.324655\n",
       "0.0004    78.143042\n",
       "0.0005    70.131919\n",
       "0.0006    75.467978\n",
       "0.0007    78.298749\n",
       "0.0008    71.756624\n",
       "0.0009    74.009493\n",
       "0.0010    72.101049\n",
       "Name: lifespan, dtype: float64"
      ]
     },
     "execution_count": 19,
     "metadata": {},
     "output_type": "execute_result"
    }
   ],
   "source": [
    "df_ra[df_ra.E==True].groupby('MUT_PROB')['lifespan'].mean()"
   ]
  },
  {
   "cell_type": "code",
   "execution_count": 20,
   "metadata": {
    "colab": {
     "base_uri": "https://localhost:8080/"
    },
    "executionInfo": {
     "elapsed": 14,
     "status": "ok",
     "timestamp": 1643795404234,
     "user": {
      "displayName": "Alan Holt",
      "photoUrl": "https://lh3.googleusercontent.com/a/default-user=s64",
      "userId": "10797295969575993173"
     },
     "user_tz": 0
    },
    "id": "StT3QPQcmd8i",
    "outputId": "895e05e7-4c12-4127-af56-fdec08a0befa"
   },
   "outputs": [
    {
     "data": {
      "text/plain": [
       "PMP\n",
       "0.000002    71.122894\n",
       "0.000004    61.900534\n",
       "0.000006    66.383078\n",
       "0.000008    63.449862\n",
       "0.000010    59.354506\n",
       "0.000012    64.865309\n",
       "Name: lifespan, dtype: float64"
      ]
     },
     "execution_count": 20,
     "metadata": {},
     "output_type": "execute_result"
    }
   ],
   "source": [
    "df_vc[df_vc.E==True].groupby('PMP')['lifespan'].mean()"
   ]
  },
  {
   "cell_type": "markdown",
   "metadata": {
    "id": "prDhosaJ16sr"
   },
   "source": [
    "## Bootstrap cell loss"
   ]
  },
  {
   "cell_type": "code",
   "execution_count": 21,
   "metadata": {},
   "outputs": [],
   "source": [
    "r,f = 10000,1"
   ]
  },
  {
   "cell_type": "code",
   "execution_count": 22,
   "metadata": {},
   "outputs": [
    {
     "name": "stdout",
     "output_type": "stream",
     "text": [
      "2e-3\n",
      "3e-3\n",
      "4e-3\n",
      "5e-3\n",
      "6e-3\n"
     ]
    }
   ],
   "source": [
    "x = df_rd[['lifespan', 'MUT_PROB']]\n",
    "rd_ls = {}\n",
    "for p,l in zip(rd_probs, rd_labels):\n",
    "    x2 = pd.Series([x['lifespan'][x.MUT_PROB==p].sample(frac=f, replace=True) for i in range(r)])\n",
    "    y2 = [item for sublist in x2 for item in sublist]\n",
    "\n",
    "    y3 = np.sort([float(i) for i in y2])\n",
    "    rd_ls[l] = y3\n",
    "    print(p,l)"
   ]
  },
  {
   "cell_type": "code",
   "execution_count": 23,
   "metadata": {},
   "outputs": [
    {
     "name": "stdout",
     "output_type": "stream",
     "text": [
      "0.0002 2e-4\n",
      "0.0004 4e-4\n",
      "0.0006 6e-4\n",
      "0.0008 8e-4\n",
      "0.001 1e-3\n"
     ]
    }
   ],
   "source": [
    "x = df_ra[['lifespan', 'MUT_PROB']]\n",
    "ra_ls = {}\n",
    "for p,l in zip(ra_probs, ra_labels):\n",
    "    x2 = pd.Series([x['lifespan'][x.MUT_PROB==p].sample(frac=f, replace=True) for i in range(r)])\n",
    "    y2 = [item for sublist in x2 for item in sublist]\n",
    "\n",
    "    y3 = np.sort([float(i) for i in y2])\n",
    "    ra_ls[l] = y3\n",
    "    print(p,l)"
   ]
  },
  {
   "cell_type": "code",
   "execution_count": 24,
   "metadata": {},
   "outputs": [
    {
     "name": "stdout",
     "output_type": "stream",
     "text": [
      "2e-6\n",
      "4e-6\n",
      "6e-6\n",
      "8e-6\n",
      "1e-5\n",
      "1.2e-5\n"
     ]
    }
   ],
   "source": [
    "x = df_vc[['lifespan', 'PMP']]\n",
    "vc_ls = {}\n",
    "for p,l in zip(vc_probs, vc_labels):\n",
    "    x2 = pd.Series([x['lifespan'][x.PMP==p].sample(frac=f, replace=True) for i in range(r)])\n",
    "    y2 = [item for sublist in x2 for item in sublist]\n",
    "\n",
    "    y3 = np.sort([float(i) for i in y2])\n",
    "    vc_ls[l] = y3\n",
    "    print(p,l)"
   ]
  },
  {
   "cell_type": "markdown",
   "metadata": {},
   "source": [
    "### Graphs"
   ]
  },
  {
   "cell_type": "code",
   "execution_count": 25,
   "metadata": {},
   "outputs": [
    {
     "data": {
      "text/plain": [
       "Text(0.5, 0.98, '')"
      ]
     },
     "execution_count": 25,
     "metadata": {},
     "output_type": "execute_result"
    },
    {
     "data": {
      "image/png": "[encoded data removed]",
      "text/plain": [
       "<Figure size 720x1152 with 3 Axes>"
      ]
     },
     "metadata": {
      "needs_background": "light"
     },
     "output_type": "display_data"
    }
   ],
   "source": [
    "fig, ax = plt.subplots(3,1, figsize=(10, 16),  sharey='all')\n",
    "\n",
    "for k in rd_ls:\n",
    "    x = rd_ls[k]\n",
    "    y = [float(i)/len(x) for i in range(1, len(x)+1)]\n",
    "    ax[0].plot(x,y, label=k)\n",
    "\n",
    "\n",
    "for k in ra_ls:\n",
    "    x = ra_ls[k]\n",
    "    y = [float(i)/len(x) for i in range(1, len(x)+1)]\n",
    "    ax[1].plot(x,y, label=k)\n",
    "    \n",
    "for k in vc_ls:\n",
    "    x = vc_ls[k]\n",
    "    y = [float(i)/len(x) for i in range(1, len(x)+1)]\n",
    "    ax[2].plot(x,y, label=k)\n",
    "    \n",
    "ax[0].legend()\n",
    "ax[1].legend()\n",
    "ax[2].legend()\n",
    "\n",
    "ax[0].set_title(\"RD\")\n",
    "ax[1].set_title(\"RA\")\n",
    "ax[2].set_title(\"VC\")\n",
    "\n",
    "ax[0].set_ylabel(\"cell loss\")\n",
    "ax[1].set_ylabel(\"cell loss\")\n",
    "ax[2].set_ylabel(\"cell loss\")\n",
    "\n",
    "ax[0].set_xlabel(\"\")\n",
    "ax[1].set_xlabel(\"\")\n",
    "ax[2].set_xlabel(\"lifespan (years)\")\n",
    "\n",
    "Xmin, Xmax = 15,101\n",
    "ax[0].set_xlim(Xmin, Xmax)\n",
    "ax[1].set_xlim(Xmin, Xmax)\n",
    "ax[2].set_xlim(Xmin, Xmax)\n",
    "\n",
    "ax[0].grid()\n",
    "ax[1].grid()\n",
    "ax[2].grid()\n",
    "\n",
    "fig.suptitle('')\n",
    "#plt.savefig(\"dem_onset3-1.eps\", format=\"eps\", bbox_inches='tight')"
   ]
  },
  {
   "cell_type": "code",
   "execution_count": 48,
   "metadata": {},
   "outputs": [
    {
     "data": {
      "text/plain": [
       "Text(0.5, 0.98, 'Dementia')"
      ]
     },
     "execution_count": 48,
     "metadata": {},
     "output_type": "execute_result"
    },
    {
     "data": {
      "image/png": "[encoded data removed]",
      "text/plain": [
       "<Figure size 720x432 with 1 Axes>"
      ]
     },
     "metadata": {
      "needs_background": "light"
     },
     "output_type": "display_data"
    }
   ],
   "source": [
    "fig, ax = plt.subplots(1,1, figsize=(10, 6),  sharey='all')\n",
    "\n",
    "k='6e-3'\n",
    "x = rd_ls[k]\n",
    "y = [float(i)/len(x) for i in range(1, len(x)+1)]\n",
    "ax.plot(x,y, label=((\"RD (%s)\") % k))\n",
    "\n",
    "k='1e-3'\n",
    "x = ra_ls[k]\n",
    "y = [float(i)/len(x) for i in range(1, len(x)+1)]\n",
    "ax.plot(x,y, label=((\"RA (%s)\") % k))\n",
    "\n",
    "k='1.2e-5'\n",
    "x = vc_ls[k]\n",
    "y = [float(i)/len(x) for i in range(1, len(x)+1)]\n",
    "ax.plot(x,y, label=((\"VC (%s)\") % k))\n",
    "\n",
    "ax.grid()\n",
    "ax.set_ylabel(\"P(L>t)\")\n",
    "ax.set_xlabel(\"lifespan (years)\")\n",
    "\n",
    "ax.legend(loc=\"upper left\")\n",
    "fig.suptitle('Dementia')\n",
    "#plt.savefig(\"dem_onset-comp.eps\", format=\"eps\", bbox_inches='tight')"
   ]
  },
  {
   "cell_type": "code",
   "execution_count": null,
   "metadata": {},
   "outputs": [],
   "source": []
  },
  {
   "cell_type": "markdown",
   "metadata": {},
   "source": [
    "## Bootstrap heteroplasmy over the lifetime of the cell"
   ]
  },
  {
   "cell_type": "code",
   "execution_count": 27,
   "metadata": {},
   "outputs": [
    {
     "name": "stdout",
     "output_type": "stream",
     "text": [
      "[E] p: 0.002000 het 2350.000000\n",
      "[S] p: 0.002000 het 1770.882979\n",
      "[E] p: 0.003000 het 4578.555556\n",
      "[S] p: 0.003000 het 3184.912088\n",
      "[E] p: 0.004000 het 4196.958333\n",
      "[S] p: 0.004000 het 4871.434211\n",
      "[E] p: 0.005000 het 5508.414634\n",
      "[S] p: 0.005000 het 6450.508475\n",
      "[E] p: 0.006000 het 6905.296875\n",
      "[S] p: 0.006000 het 8463.888889\n"
     ]
    }
   ],
   "source": [
    "expired = df_rd[df_rd.E == True][['MUT_PROB', 'TOTAL_MUTANTS']]\n",
    "survived = df_rd[df_rd.E == False][['MUT_PROB', 'TOTAL_MUTANTS']]\n",
    "ht_e = []\n",
    "ht_s = []\n",
    "r,f = 1000,1\n",
    "for p in rd_probs:\n",
    "    e = pd.Series([expired['TOTAL_MUTANTS'][expired.MUT_PROB==p].sample(frac=f, replace=True) for i in range(r)])\n",
    "    s = pd.Series([survived['TOTAL_MUTANTS'][survived.MUT_PROB==p].sample(frac=f, replace=True) for i in range(r)])\n",
    "    for i in e:\n",
    "        L = np.mean(i.values)\n",
    "        ht_e.append([L, p])\n",
    "    print(\"[E] p: %f het %f\" % (p, ht_e[-1][0]))\n",
    "    for i in s:\n",
    "        L = np.mean(i.values)\n",
    "        ht_s.append([L, p])\n",
    "    print(\"[S] p: %f het %f\" % (p, ht_s[-1][0]))\n",
    "het_rd_e = pd.DataFrame(data= ht_e, columns = ['TOTAL_MUTANTS', 'MUT_PROB'])\n",
    "het_rd_s = pd.DataFrame(data= ht_s, columns = ['TOTAL_MUTANTS', 'MUT_PROB'])"
   ]
  },
  {
   "cell_type": "code",
   "execution_count": 28,
   "metadata": {},
   "outputs": [
    {
     "name": "stdout",
     "output_type": "stream",
     "text": [
      "[E] p: 0.000200 het 246.166667\n",
      "[S] p: 0.000200 het 126.691489\n",
      "[E] p: 0.000400 het 450.937500\n",
      "[S] p: 0.000400 het 300.035714\n",
      "[E] p: 0.000600 het 639.681818\n",
      "[S] p: 0.000600 het 494.696429\n",
      "[E] p: 0.000800 het 752.640000\n",
      "[S] p: 0.000800 het 654.000000\n",
      "[E] p: 0.001000 het 910.557377\n",
      "[S] p: 0.001000 het 849.230769\n"
     ]
    }
   ],
   "source": [
    "expired = df_ra[df_ra.E == True][['MUT_PROB', 'TOTAL_MUTANTS']]\n",
    "survived = df_ra[df_ra.E == False][['MUT_PROB', 'TOTAL_MUTANTS']]\n",
    "ht_e = []\n",
    "ht_s = []\n",
    "r,f = 1000,1\n",
    "for p in ra_probs:\n",
    "    e = pd.Series([expired['TOTAL_MUTANTS'][expired.MUT_PROB==p].sample(frac=f, replace=True) for i in range(r)])\n",
    "    s = pd.Series([survived['TOTAL_MUTANTS'][survived.MUT_PROB==p].sample(frac=f, replace=True) for i in range(r)])\n",
    "    for i in e:\n",
    "        L = np.mean(i.values)\n",
    "        ht_e.append([L, p])\n",
    "    print(\"[E] p: %f het %f\" % (p, ht_e[-1][0]))\n",
    "    for i in s:\n",
    "        L = np.mean(i.values)\n",
    "        ht_s.append([L, p])\n",
    "    print(\"[S] p: %f het %f\" % (p, ht_s[-1][0]))\n",
    "het_ra_e = pd.DataFrame(data= ht_e, columns = ['TOTAL_MUTANTS', 'MUT_PROB'])\n",
    "het_ra_s = pd.DataFrame(data= ht_s, columns = ['TOTAL_MUTANTS', 'MUT_PROB'])"
   ]
  },
  {
   "cell_type": "code",
   "execution_count": 29,
   "metadata": {},
   "outputs": [
    {
     "name": "stdout",
     "output_type": "stream",
     "text": [
      "[E] p: 0.000002 het 5161.800000\n",
      "[S] p: 0.000002 het 152.882353\n",
      "[E] p: 0.000004 het 6644.400000\n",
      "[S] p: 0.000004 het 125.150000\n",
      "[E] p: 0.000006 het 7437.333333\n",
      "[S] p: 0.000006 het 255.462687\n",
      "[E] p: 0.000008 het 7366.806452\n",
      "[S] p: 0.000008 het 391.913043\n",
      "[E] p: 0.000010 het 8087.022222\n",
      "[S] p: 0.000010 het 725.090909\n",
      "[E] p: 0.000012 het 9433.604651\n",
      "[S] p: 0.000012 het 151.807018\n"
     ]
    }
   ],
   "source": [
    "expired  = df_vc[df_vc.E == True][['PMP', 'TOTAL_MUTANTS']]\n",
    "survived = df_vc[df_vc.E == False][['PMP', 'TOTAL_MUTANTS']]\n",
    "ht_e = []\n",
    "ht_s = []\n",
    "#r,f = 1000,1\n",
    "for p in vc_probs:\n",
    "    e = pd.Series([expired['TOTAL_MUTANTS'][expired.PMP==p].sample(frac=f, replace=True) for i in range(r)])\n",
    "    s = pd.Series([survived['TOTAL_MUTANTS'][survived.PMP==p].sample(frac=f, replace=True) for i in range(r)])\n",
    "    for i in e:\n",
    "        L = np.mean(i.values)\n",
    "        ht_e.append([L, p])\n",
    "    print(\"[E] p: %f het %f\" % (p, ht_e[-1][0]))\n",
    "    for i in s:\n",
    "        L = np.mean(i.values)\n",
    "        ht_s.append([L, p])\n",
    "    print(\"[S] p: %f het %f\" % (p, ht_s[-1][0]))\n",
    "het_vc_e = pd.DataFrame(data= ht_e, columns = ['TOTAL_MUTANTS', 'PMP'])\n",
    "het_vc_s = pd.DataFrame(data= ht_s, columns = ['TOTAL_MUTANTS', 'PMP'])"
   ]
  },
  {
   "cell_type": "markdown",
   "metadata": {},
   "source": [
    "### Graphs"
   ]
  },
  {
   "cell_type": "code",
   "execution_count": 30,
   "metadata": {},
   "outputs": [
    {
     "data": {
      "text/plain": [
       "Text(0.5, 0.98, '')"
      ]
     },
     "execution_count": 30,
     "metadata": {},
     "output_type": "execute_result"
    },
    {
     "data": {
      "image/png": "[encoded data removed]",
      "text/plain": [
       "<Figure size 720x720 with 6 Axes>"
      ]
     },
     "metadata": {
      "needs_background": "light"
     },
     "output_type": "display_data"
    }
   ],
   "source": [
    "fig, ax = plt.subplots(2,3, figsize=(10, 10),  sharey='all')\n",
    "\n",
    "het_rd_e.boxplot(column=['TOTAL_MUTANTS'], by='MUT_PROB', ax=ax[0][0])\n",
    "het_ra_e.boxplot(column=['TOTAL_MUTANTS'], by='MUT_PROB', ax=ax[0][1])\n",
    "het_vc_e.boxplot(column=['TOTAL_MUTANTS'], by='PMP', ax=ax[0][2])\n",
    "\n",
    "het_rd_s.boxplot(column=['TOTAL_MUTANTS'], by='MUT_PROB', ax=ax[1][0])\n",
    "het_ra_s.boxplot(column=['TOTAL_MUTANTS'], by='MUT_PROB', ax=ax[1][1])\n",
    "het_vc_s.boxplot(column=['TOTAL_MUTANTS'], by='PMP', ax=ax[1][2])\n",
    "\n",
    "ax[0][0].set_title(\"RD\")\n",
    "ax[0][1].set_title(\"RA\")\n",
    "ax[0][2].set_title(\"VC\")\n",
    "ax[1][0].set_title(\" \")\n",
    "ax[1][1].set_title(\" \")\n",
    "ax[1][2].set_title(\" \")\n",
    "\n",
    "ax[0][0].set_xticklabels(rd_labels, Rotation=90)\n",
    "ax[0][1].set_xticklabels(ra_labels, Rotation=90) \n",
    "ax[0][2].set_xticklabels(vc_labels, Rotation=90)\n",
    "ax[1][0].set_xticklabels(rd_labels, Rotation=90)\n",
    "ax[1][1].set_xticklabels(ra_labels, Rotation=90) \n",
    "ax[1][2].set_xticklabels(vc_labels, Rotation=90)\n",
    "\n",
    "ax[0][0].set_ylabel(\"no. species (dead cells)\")\n",
    "ax[1][0].set_ylabel(\"no. species (survived cells)\")\n",
    "\n",
    "\n",
    "ax[0][0].set_xlabel(\" \")\n",
    "ax[0][1].set_xlabel(\" \")\n",
    "ax[0][2].set_xlabel(\" \")\n",
    "\n",
    "ax[1][0].set_xlabel(\"mutation probability\")\n",
    "ax[1][1].set_xlabel(\"mutation probability\")\n",
    "ax[1][2].set_xlabel(\"mutation probability/mutant\")\n",
    "\n",
    "fig.suptitle('')\n",
    "#plt.savefig(\"het.eps\", format=\"eps\", bbox_inches='tight')"
   ]
  },
  {
   "cell_type": "code",
   "execution_count": null,
   "metadata": {},
   "outputs": [],
   "source": []
  },
  {
   "cell_type": "markdown",
   "metadata": {},
   "source": [
    "## Bootstrap heteroplamsy at the time of cell death"
   ]
  },
  {
   "cell_type": "markdown",
   "metadata": {},
   "source": [
    "Read in files for Entropy:"
   ]
  },
  {
   "cell_type": "code",
   "execution_count": 32,
   "metadata": {},
   "outputs": [],
   "source": [
    "resfile_rd=\"rd_clon_results.json\"\n",
    "with open(resfile_rd, 'r') as fd:\n",
    "    dj = json.load(fd)\n",
    "    fd.close()\n",
    "dg_rd = pd.read_json(dj, orient=\"columns\")\n",
    "dg_rd[\"MUT_PROB\"] = pd.to_numeric(dg_rd[\"MUT_PROB\"].round(decimals=5))"
   ]
  },
  {
   "cell_type": "code",
   "execution_count": 33,
   "metadata": {},
   "outputs": [],
   "source": [
    "resfile_ra=\"ra_clon_results.json\"\n",
    "with open(resfile_ra, 'r') as fd:\n",
    "    dj = json.load(fd)\n",
    "    fd.close()\n",
    "dg_ra = pd.read_json(dj, orient=\"columns\")\n",
    "dg_ra[\"MUT_PROB\"] = pd.to_numeric(dg_ra[\"MUT_PROB\"].round(decimals=5))"
   ]
  },
  {
   "cell_type": "code",
   "execution_count": 34,
   "metadata": {},
   "outputs": [],
   "source": [
    "resfile_vc=\"vc_clon_results.json\"\n",
    "with open(resfile_vc, 'r') as fd:\n",
    "    dj = json.load(fd)\n",
    "    fd.close()\n",
    "dg_vc = pd.read_json(dj, orient=\"columns\")\n",
    "dg_vc[\"PMP\"] = pd.to_numeric(dg_vc[\"PER_MUT_PROB\"].round(decimals=6))"
   ]
  },
  {
   "cell_type": "code",
   "execution_count": null,
   "metadata": {},
   "outputs": [],
   "source": []
  },
  {
   "cell_type": "code",
   "execution_count": 38,
   "metadata": {},
   "outputs": [],
   "source": [
    "rd_labels = ['4e-3', '5e-3', '6e-3']\n",
    "rd_probs = [float(i) for i in rd_labels]\n",
    "ra_labels = ['6e-4', '8e-4',  '1e-3']\n",
    "ra_probs = [float(i) for i in ra_labels]\n",
    "vc_labels = [ '6e-6',  '8e-6','1e-5', '1.2e-5']\n",
    "vc_probs = [float(i) for i in vc_labels]"
   ]
  },
  {
   "cell_type": "markdown",
   "metadata": {},
   "source": [
    "### Heteroplasmy"
   ]
  },
  {
   "cell_type": "markdown",
   "metadata": {},
   "source": [
    "RD:"
   ]
  },
  {
   "cell_type": "code",
   "execution_count": 39,
   "metadata": {},
   "outputs": [
    {
     "name": "stdout",
     "output_type": "stream",
     "text": [
      "[E] p: 0.004000 het 62.791667\n",
      "[E] p: 0.005000 het 75.512195\n",
      "[E] p: 0.006000 het 83.546875\n"
     ]
    }
   ],
   "source": [
    "expired = df_rd[df_rd.E == True][['MUT_PROB', 'NO_MUT_END']]\n",
    "#survived = df_rd[df_rd.E == False][['MUT_PROB', 'NO_MUT_END']]\n",
    "ht_e = []\n",
    "#ht_s = []\n",
    "for p in rd_probs:\n",
    "    e = pd.Series([expired['NO_MUT_END'][expired.MUT_PROB==p].sample(frac=f, replace=True) for i in range(r)])\n",
    "    #s = pd.Series([survived['NO_MUT_END'][survived.MUT_PROB==p].sample(frac=f, replace=True) for i in range(r)])\n",
    "    for i in e:\n",
    "        L = np.mean(i.values)\n",
    "        ht_e.append([L, p])\n",
    "    print(\"[E] p: %f het %f\" % (p, ht_e[-1][0]))\n",
    "    #for i in s:\n",
    "    #    L = np.mean(i.values)\n",
    "    #    ht_s.append([L, p])\n",
    "    #print(\"[S] p: %f het %f\" % (p, ht_s[-1][0]))\n",
    "het_rd_e = pd.DataFrame(data= ht_e, columns = ['NO_MUT_END', 'MUT_PROB'])\n",
    "#het_rd_s = pd.DataFrame(data= ht_s, columns = ['NO_MUT_END', 'MUT_PROB'])"
   ]
  },
  {
   "cell_type": "markdown",
   "metadata": {},
   "source": [
    "RA:"
   ]
  },
  {
   "cell_type": "code",
   "execution_count": 40,
   "metadata": {},
   "outputs": [
    {
     "name": "stdout",
     "output_type": "stream",
     "text": [
      "[E] p: 0.000600 het 11.772727\n",
      "[E] p: 0.000800 het 15.640000\n",
      "[E] p: 0.001000 het 17.934426\n"
     ]
    }
   ],
   "source": [
    "expired = df_ra[df_ra.E == True][['MUT_PROB', 'NO_MUT_END']]\n",
    "#survived = df_ra[df_ra.E == False][['MUT_PROB', 'NO_MUT_END']]\n",
    "ht_e = []\n",
    "#ht_s = []\n",
    "for p in ra_probs:\n",
    "    e = pd.Series([expired['NO_MUT_END'][expired.MUT_PROB==p].sample(frac=f, replace=True) for i in range(r)])\n",
    "    #s = pd.Series([survived['NO_MUT_END'][survived.MUT_PROB==p].sample(frac=f, replace=True) for i in range(r)])\n",
    "    for i in e:\n",
    "        L = np.mean(i.values)\n",
    "        ht_e.append([L, p])\n",
    "    print(\"[E] p: %f het %f\" % (p, ht_e[-1][0]))\n",
    "    #for i in s:\n",
    "    #    L = np.mean(i.values)\n",
    "    #    ht_s.append([L, p])\n",
    "    #print(\"[S] p: %f het %f\" % (p, ht_s[-1][0]))\n",
    "het_ra_e = pd.DataFrame(data= ht_e, columns = ['NO_MUT_END', 'MUT_PROB'])\n",
    "#het_ra_s = pd.DataFrame(data= ht_s, columns = ['NO_MUT_END', 'MUT_PROB'])"
   ]
  },
  {
   "cell_type": "markdown",
   "metadata": {},
   "source": [
    "VC:"
   ]
  },
  {
   "cell_type": "code",
   "execution_count": 41,
   "metadata": {},
   "outputs": [
    {
     "name": "stdout",
     "output_type": "stream",
     "text": [
      "[E] p: 0.000006 het 471.848485\n",
      "[E] p: 0.000008 het 589.870968\n",
      "[E] p: 0.000010 het 702.244444\n",
      "[E] p: 0.000012 het 800.093023\n"
     ]
    }
   ],
   "source": [
    "expired  = df_vc[df_vc.E == True][['PMP', 'NO_MUT_END']]\n",
    "survived = df_vc[df_vc.E == False][['PMP', 'NO_MUT_END']]\n",
    "ht_e = []\n",
    "#ht_s = []\n",
    "for p in vc_probs:\n",
    "    e = pd.Series([expired['NO_MUT_END'][expired.PMP==p].sample(frac=f, replace=True) for i in range(r)])\n",
    "    #s = pd.Series([survived['NO_MUT_END'][survived.PMP==p].sample(frac=f, replace=True) for i in range(r)])\n",
    "    for i in e:\n",
    "        L = np.mean(i.values)\n",
    "        ht_e.append([L, p])\n",
    "    print(\"[E] p: %f het %f\" % (p, ht_e[-1][0]))\n",
    "    #for i in s:\n",
    "    #    L = np.mean(i.values)\n",
    "    #    ht_s.append([L, p])\n",
    "    #print(\"[S] p: %f het %f\" % (p, ht_s[-1][0]))\n",
    "het_vc_e = pd.DataFrame(data= ht_e, columns = ['NO_MUT_END', 'PMP'])\n",
    "#het_vc_s = pd.DataFrame(data= ht_s, columns = ['NO_MUT_END', 'PMP'])"
   ]
  },
  {
   "cell_type": "markdown",
   "metadata": {},
   "source": [
    "### Entropy"
   ]
  },
  {
   "cell_type": "markdown",
   "metadata": {},
   "source": [
    "RD:"
   ]
  },
  {
   "cell_type": "code",
   "execution_count": 42,
   "metadata": {},
   "outputs": [
    {
     "name": "stdout",
     "output_type": "stream",
     "text": [
      "p: 0.004000 ent 1.110989\n",
      "p: 0.005000 ent 1.273983\n",
      "p: 0.006000 ent 1.350181\n"
     ]
    }
   ],
   "source": [
    "H1 = []\n",
    "for p in  rd_probs:\n",
    "    H_lst = []\n",
    "    dgHet = dg_rd[(dg_rd.E == True) & (dg_rd.MUT_PROB == p)]['HET_DIST']\n",
    "    \n",
    "    for rec in dgHet:\n",
    "        x2 = [int(i) for i in rec.split(\":\")]\n",
    "        sum_x = np.sum(x2)\n",
    "        x3 = [float(i)/float(sum_x) for i in x2]\n",
    "        H = -1.0 * np.sum([p * np.log10(p) for p in x3])\n",
    "        #print(H)\n",
    "        H_lst.append(H)\n",
    "    d = {'H': H_lst}\n",
    "    dgH = pd.DataFrame(data=d)\n",
    "    bs = pd.Series([dgH.sample(frac=f, replace=True) for i in range(r)])\n",
    "    for i in bs:\n",
    "        h = np.mean(i.values)\n",
    "        H1.append([h, p])\n",
    "    print(\"p: %f ent %f\" % (p, H1[-1][0]))\n",
    "h_rd = pd.DataFrame(data= H1, columns = ['H', 'MUT_PROB'])"
   ]
  },
  {
   "cell_type": "markdown",
   "metadata": {},
   "source": [
    "RA:"
   ]
  },
  {
   "cell_type": "code",
   "execution_count": 43,
   "metadata": {},
   "outputs": [
    {
     "name": "stdout",
     "output_type": "stream",
     "text": [
      "p: 0.000600 ent 0.496934\n",
      "p: 0.000800 ent 0.511148\n",
      "p: 0.001000 ent 0.521207\n"
     ]
    }
   ],
   "source": [
    "H1 = []\n",
    "for p in ra_probs:\n",
    "    H_lst = []\n",
    "    dgHet = dg_ra[(dg_ra.E == True) & (dg_ra.MUT_PROB == p)]['HET_DIST']\n",
    "    \n",
    "    for rec in dgHet:\n",
    "        x2 = [int(i) for i in rec.split(\":\")]\n",
    "        sum_x = np.sum(x2)\n",
    "        x3 = [float(i)/float(sum_x) for i in x2]\n",
    "        H = -1.0 * np.sum([p * np.log10(p) for p in x3])\n",
    "        H_lst.append(H)\n",
    "    d = {'H': H_lst}\n",
    "    dfH = pd.DataFrame(data=d)\n",
    "    bs = pd.Series([dfH.sample(frac=f, replace=True) for i in range(r)])\n",
    "    for i in bs:\n",
    "        h = np.mean(i.values)\n",
    "        H1.append([h, p])\n",
    "    print(\"p: %f ent %f\" % (p, H1[-1][0]))\n",
    "h_ra = pd.DataFrame(data=H1, columns = ['H', 'MUT_PROB'])"
   ]
  },
  {
   "cell_type": "markdown",
   "metadata": {},
   "source": [
    "VC:"
   ]
  },
  {
   "cell_type": "code",
   "execution_count": 47,
   "metadata": {},
   "outputs": [
    {
     "name": "stdout",
     "output_type": "stream",
     "text": [
      "p: 0.000006 ent 1.341331\n",
      "p: 0.000008 ent 1.365078\n",
      "p: 0.000010 ent 1.344591\n",
      "p: 0.000012 ent 1.343315\n"
     ]
    }
   ],
   "source": [
    "H1 = []\n",
    "for p in vc_probs:\n",
    "    H_lst = []\n",
    "    dgHet = dg_vc[(dg_vc.E == True) & (dg_vc.PMP == p)]['HET_DIST']\n",
    "    \n",
    "    for rec in dgHet:\n",
    "        x2 = [int(i) for i in rec.split(\":\")]\n",
    "        sum_x = np.sum(x2)\n",
    "        x3 = [float(i)/float(sum_x) for i in x2]\n",
    "        H = -1.0 * np.sum([p * np.log10(p) for p in x3])\n",
    "        H_lst.append(H)\n",
    "    d = {'H': H_lst}\n",
    "    dggH = pd.DataFrame(data=d)\n",
    "    bs = pd.Series([dgH.sample(frac=f, replace=True) for i in range(r)])\n",
    "    for i in bs:\n",
    "        h = np.mean(i.values)\n",
    "        H1.append([h, p])\n",
    "    print(\"p: %f ent %f\" % (p, H1[-1][0]))\n",
    "h_vc = pd.DataFrame(data=H1, columns = ['H', 'PMP'])"
   ]
  },
  {
   "cell_type": "markdown",
   "metadata": {},
   "source": [
    "### Graphs"
   ]
  },
  {
   "cell_type": "code",
   "execution_count": 45,
   "metadata": {},
   "outputs": [
    {
     "data": {
      "text/plain": [
       "Text(0.5, 0.98, '')"
      ]
     },
     "execution_count": 45,
     "metadata": {},
     "output_type": "execute_result"
    },
    {
     "data": {
      "image/png": "[encoded data removed]",
      "text/plain": [
       "<Figure size 720x720 with 6 Axes>"
      ]
     },
     "metadata": {
      "needs_background": "light"
     },
     "output_type": "display_data"
    }
   ],
   "source": [
    "fig, ax = plt.subplots(2,3, figsize=(10, 10)) #, sharey='row')\n",
    "\n",
    "het_rd_e.boxplot(column=['NO_MUT_END'], by='MUT_PROB', ax=ax[0][0])\n",
    "het_ra_e.boxplot(column=['NO_MUT_END'], by='MUT_PROB', ax=ax[0][1])\n",
    "het_vc_e.boxplot(column=['NO_MUT_END'], by='PMP', ax=ax[0][2])\n",
    "\n",
    "h_rd.boxplot(column=['H'], by='MUT_PROB', ax=ax[1][0])\n",
    "h_ra.boxplot(column=['H'], by='MUT_PROB', ax=ax[1][1])\n",
    "h_vc.boxplot(column=['H'], by='PMP', ax=ax[1][2])\n",
    "\n",
    "ax[0][0].set_title(\"RD\")\n",
    "ax[0][1].set_title(\"RA\")\n",
    "ax[0][2].set_title(\"VC\")\n",
    "ax[1][0].set_title(\" \")\n",
    "ax[1][1].set_title(\" \")\n",
    "ax[1][2].set_title(\" \")\n",
    "\n",
    "ax[0][0].set_xticklabels(rd_labels, Rotation=90)\n",
    "ax[0][1].set_xticklabels(ra_labels, Rotation=90) \n",
    "ax[0][2].set_xticklabels(vc_labels, Rotation=90)\n",
    "ax[1][0].set_xticklabels(rd_labels, Rotation=90)\n",
    "ax[1][1].set_xticklabels(ra_labels, Rotation=90) \n",
    "ax[1][2].set_xticklabels(vc_labels, Rotation=90)\n",
    "\n",
    "ax[0][0].set_ylabel(\"no. species\")\n",
    "ax[1][0].set_ylabel(\"Entropy\")\n",
    "\n",
    "ax[0][0].set_xlabel(\" \")\n",
    "ax[0][1].set_xlabel(\" \")\n",
    "ax[0][2].set_xlabel(\" \")\n",
    "\n",
    "ax[1][0].set_xlabel(\"mutation probability\")\n",
    "ax[1][1].set_xlabel(\"mutation probability\")\n",
    "ax[1][2].set_xlabel(\"mutation probability/mutant\")\n",
    "\n",
    "fig.suptitle('')\n",
    "#plt.savefig(\"ent.eps\", format=\"eps\", bbox_inches='tight')"
   ]
  },
  {
   "cell_type": "code",
   "execution_count": null,
   "metadata": {},
   "outputs": [],
   "source": []
  },
  {
   "cell_type": "code",
   "execution_count": null,
   "metadata": {},
   "outputs": [],
   "source": []
  }
 ],
 "metadata": {
  "colab": {
   "collapsed_sections": [],
   "name": "lifespan_analysis.ipynb",
   "provenance": [
    {
     "file_id": "1tHMsO9TQSyn8STCe0xfSNqxhrPBn5iua",
     "timestamp": 1641544968920
    }
   ]
  },
  "kernelspec": {
   "display_name": "Python 3",
   "language": "python",
   "name": "python3"
  },
  "language_info": {
   "codemirror_mode": {
    "name": "ipython",
    "version": 3
   },
   "file_extension": ".py",
   "mimetype": "text/x-python",
   "name": "python",
   "nbconvert_exporter": "python",
   "pygments_lexer": "ipython3",
   "version": "3.6.9"
  }
 },
 "nbformat": 4,
 "nbformat_minor": 2
}
